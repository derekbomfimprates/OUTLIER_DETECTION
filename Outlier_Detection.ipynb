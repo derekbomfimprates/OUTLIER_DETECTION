{
  "nbformat": 4,
  "nbformat_minor": 0,
  "metadata": {
    "colab": {
      "provenance": [],
      "authorship_tag": "ABX9TyPiCjdr1npOXxyr1ov/gsUl",
      "include_colab_link": true
    },
    "kernelspec": {
      "name": "python3",
      "display_name": "Python 3"
    },
    "language_info": {
      "name": "python"
    }
  },
  "cells": [
    {
      "cell_type": "markdown",
      "metadata": {
        "id": "view-in-github",
        "colab_type": "text"
      },
      "source": [
        "<a href=\"https://colab.research.google.com/github/derekbomfimprates/OUTLIER_DETECTION/blob/main/Outlier_Detection.ipynb\" target=\"_parent\"><img src=\"https://colab.research.google.com/assets/colab-badge.svg\" alt=\"Open In Colab\"/></a>"
      ]
    },
    {
      "cell_type": "markdown",
      "source": [
        "\n",
        "# OUTLIER DETECTION AND TREATMENT\n",
        "\n",
        "**File:** outlier_Detection.ipynb\n",
        "\n",
        "**Data Mining in Python**\n",
        "\n",
        "**1. Objective:**\n",
        "\n",
        "The main objective of this project is to identify and handle outliers in a dataset to improve data quality for analysis. Outliers can distort statistical analysis and models, so effective detection and treatment of outliers are crucial for reliable insights.\n",
        "\n",
        "**2. Tools and Libraries:**\n",
        "\n",
        "Python (for data mining and analysis)\n",
        "Pandas (data manipulation)\n",
        "NumPy (numerical computations)\n",
        "Matplotlib/Seaborn (for data visualization)\n",
        "\n",
        "**3. Steps Involved:**\n",
        "\n",
        "A. Data Cleaning: Before proceeding with outlier detection, several data preprocessing and cleaning steps are applied to ensure that the dataset is in a consistent and usable state. These steps may include:\n",
        "\n",
        "Handling missing values\n",
        "Removing duplicates\n",
        "Standardizing or normalizing the data if necessary\n",
        "\n",
        "**B. Outlier Detection Methods:**\n",
        "\n",
        "**Z-Score Method:**\n",
        "\n",
        "The Z-score is calculated for each data point, representing how many standard deviations away the point is from the mean.\n",
        "A threshold (commonly 3) is used to detect outliers. Any data point with a Z-score beyond this threshold is classified as an outlier.\n",
        "\n",
        "\n",
        "**Interquartile Range (IQR):**\n",
        "\n",
        "The IQR method involves calculating the range between the first (Q1) and third quartiles (Q3) of the data.\n",
        "Data points outside the range [Q1 - 1.5 * IQR, Q3 + 1.5 * IQR] are considered outliers.\n",
        "\n",
        "**C. Outlier Treatment:**\n",
        "\n",
        "**Winsorizing:**\n",
        "\n",
        "To treat outliers, the Winsorization technique is applied. Winsorizing limits extreme values in the dataset by capping them to a certain percentile.\n",
        "This method retains the number of data points but modifies the extreme values, reducing their impact on the analysis.\n",
        "\n",
        "**4. Results:**\n",
        "\n",
        "The combination of Z-score and IQR methods provides a robust way of detecting outliers in the dataset.\n",
        "Winsorization helps in treating the detected outliers, maintaining data integrity while reducing their impact on statistical analysis.\n",
        "\n",
        "**5. Conclusion:**\n",
        "\n",
        "By applying outlier detection (Z-Score, IQR) and treatment (Winsorizing) techniques, the dataset becomes cleaner and more suitable for further analysis and modeling. This ensures that the insights drawn from the data are not skewed by extreme values, improving the quality and reliability of the data mining process."
      ],
      "metadata": {
        "id": "ofLzcD1w3YQe"
      }
    },
    {
      "cell_type": "markdown",
      "source": [
        "# IMPORT LIBRARIES\n"
      ],
      "metadata": {
        "id": "hjiKCmUV2n-X"
      }
    },
    {
      "cell_type": "code",
      "execution_count": null,
      "metadata": {
        "id": "--lFrnzm2LpT"
      },
      "outputs": [],
      "source": [
        "import matplotlib.pyplot as plt                      # For plotting data\n",
        "import seaborn as sns                                # For plotting data\n",
        "import pandas as pd                                  # For dataframes\n",
        "import numpy as np                                   # For IQR method\n",
        "from scipy import stats                              # For statistic analisys\n",
        "from scipy.stats import mstats                       # For statistic analises\n",
        "from sklearn.model_selection import train_test_split # For train/test splits\n",
        "from sklearn.decomposition import PCA                # For PCA\n",
        "from sklearn.preprocessing import LabelEncoder       # For data processing encode\n",
        "from sklearn.preprocessing import StandardScaler\n",
        "from sklearn.discriminant_analysis import LinearDiscriminantAnalysis  # For LDA\n",
        "from sklearn.tree import DecisionTreeClassifier, plot_tree   # For decision trees"
      ]
    },
    {
      "cell_type": "markdown",
      "source": [
        "# LOADING AND PREPARING THE DATA"
      ],
      "metadata": {
        "id": "ydas6NJt3zs5"
      }
    },
    {
      "cell_type": "code",
      "source": [
        "df = pd.read_csv(\"/content/marketing_data.csv\")"
      ],
      "metadata": {
        "id": "RCnPGSls4Bua"
      },
      "execution_count": null,
      "outputs": []
    },
    {
      "cell_type": "code",
      "source": [
        "df.info()"
      ],
      "metadata": {
        "colab": {
          "base_uri": "https://localhost:8080/"
        },
        "id": "n336vWGW5Wb-",
        "outputId": "3233c1be-ae4b-4685-aafc-45c16cb220ed"
      },
      "execution_count": null,
      "outputs": [
        {
          "output_type": "stream",
          "name": "stdout",
          "text": [
            "<class 'pandas.core.frame.DataFrame'>\n",
            "RangeIndex: 2240 entries, 0 to 2239\n",
            "Data columns (total 28 columns):\n",
            " #   Column               Non-Null Count  Dtype  \n",
            "---  ------               --------------  -----  \n",
            " 0   ID                   2240 non-null   int64  \n",
            " 1   Year_Birth           2240 non-null   int64  \n",
            " 2   Education            2240 non-null   object \n",
            " 3   Marital_Status       2240 non-null   object \n",
            " 4    Income              2216 non-null   float64\n",
            " 5   Kidhome              2240 non-null   int64  \n",
            " 6   Teenhome             2240 non-null   int64  \n",
            " 7   Dt_Customer          2240 non-null   object \n",
            " 8   Recency              2240 non-null   int64  \n",
            " 9   MntWines             2240 non-null   int64  \n",
            " 10  MntFruits            2240 non-null   int64  \n",
            " 11  MntMeatProducts      2240 non-null   int64  \n",
            " 12  MntFishProducts      2240 non-null   int64  \n",
            " 13  MntSweetProducts     2240 non-null   int64  \n",
            " 14  MntGoldProds         2240 non-null   int64  \n",
            " 15  NumDealsPurchases    2240 non-null   int64  \n",
            " 16  NumWebPurchases      2240 non-null   int64  \n",
            " 17  NumCatalogPurchases  2240 non-null   int64  \n",
            " 18  NumStorePurchases    2240 non-null   int64  \n",
            " 19  NumWebVisitsMonth    2240 non-null   int64  \n",
            " 20  AcceptedCmp3         2240 non-null   int64  \n",
            " 21  AcceptedCmp4         2240 non-null   int64  \n",
            " 22  AcceptedCmp5         2240 non-null   int64  \n",
            " 23  AcceptedCmp1         2240 non-null   int64  \n",
            " 24  AcceptedCmp2         2240 non-null   int64  \n",
            " 25  Response             2240 non-null   int64  \n",
            " 26  Complain             2240 non-null   int64  \n",
            " 27  Country              2240 non-null   object \n",
            "dtypes: float64(1), int64(23), object(4)\n",
            "memory usage: 490.1+ KB\n"
          ]
        }
      ]
    },
    {
      "cell_type": "code",
      "source": [
        "# rename atributtes to remove blank space: \" Income\" to \"Income\"\n",
        "\n",
        "df.columns = df.columns.str.strip()\n",
        "#df = df.rename(columns = lambda x: x.strip())\n",
        "df.info()"
      ],
      "metadata": {
        "colab": {
          "base_uri": "https://localhost:8080/"
        },
        "id": "aQVIGDxv5hu9",
        "outputId": "f7328b1f-505c-4be1-9963-4f2b4a61b0d2"
      },
      "execution_count": null,
      "outputs": [
        {
          "output_type": "stream",
          "name": "stdout",
          "text": [
            "<class 'pandas.core.frame.DataFrame'>\n",
            "RangeIndex: 2240 entries, 0 to 2239\n",
            "Data columns (total 28 columns):\n",
            " #   Column               Non-Null Count  Dtype  \n",
            "---  ------               --------------  -----  \n",
            " 0   ID                   2240 non-null   int64  \n",
            " 1   Year_Birth           2240 non-null   int64  \n",
            " 2   Education            2240 non-null   object \n",
            " 3   Marital_Status       2240 non-null   object \n",
            " 4   Income               2216 non-null   float64\n",
            " 5   Kidhome              2240 non-null   int64  \n",
            " 6   Teenhome             2240 non-null   int64  \n",
            " 7   Dt_Customer          2240 non-null   object \n",
            " 8   Recency              2240 non-null   int64  \n",
            " 9   MntWines             2240 non-null   int64  \n",
            " 10  MntFruits            2240 non-null   int64  \n",
            " 11  MntMeatProducts      2240 non-null   int64  \n",
            " 12  MntFishProducts      2240 non-null   int64  \n",
            " 13  MntSweetProducts     2240 non-null   int64  \n",
            " 14  MntGoldProds         2240 non-null   int64  \n",
            " 15  NumDealsPurchases    2240 non-null   int64  \n",
            " 16  NumWebPurchases      2240 non-null   int64  \n",
            " 17  NumCatalogPurchases  2240 non-null   int64  \n",
            " 18  NumStorePurchases    2240 non-null   int64  \n",
            " 19  NumWebVisitsMonth    2240 non-null   int64  \n",
            " 20  AcceptedCmp3         2240 non-null   int64  \n",
            " 21  AcceptedCmp4         2240 non-null   int64  \n",
            " 22  AcceptedCmp5         2240 non-null   int64  \n",
            " 23  AcceptedCmp1         2240 non-null   int64  \n",
            " 24  AcceptedCmp2         2240 non-null   int64  \n",
            " 25  Response             2240 non-null   int64  \n",
            " 26  Complain             2240 non-null   int64  \n",
            " 27  Country              2240 non-null   object \n",
            "dtypes: float64(1), int64(23), object(4)\n",
            "memory usage: 490.1+ KB\n"
          ]
        }
      ]
    },
    {
      "cell_type": "code",
      "source": [
        "df.isna().sum()"
      ],
      "metadata": {
        "colab": {
          "base_uri": "https://localhost:8080/"
        },
        "id": "E4fSr40m46cv",
        "outputId": "031f992b-69d0-4b6e-a1ce-cadb17413382"
      },
      "execution_count": null,
      "outputs": [
        {
          "output_type": "execute_result",
          "data": {
            "text/plain": [
              "ID                      0\n",
              "Year_Birth              0\n",
              "Education               0\n",
              "Marital_Status          0\n",
              "Income                 24\n",
              "Kidhome                 0\n",
              "Teenhome                0\n",
              "Dt_Customer             0\n",
              "Recency                 0\n",
              "MntWines                0\n",
              "MntFruits               0\n",
              "MntMeatProducts         0\n",
              "MntFishProducts         0\n",
              "MntSweetProducts        0\n",
              "MntGoldProds            0\n",
              "NumDealsPurchases       0\n",
              "NumWebPurchases         0\n",
              "NumCatalogPurchases     0\n",
              "NumStorePurchases       0\n",
              "NumWebVisitsMonth       0\n",
              "AcceptedCmp3            0\n",
              "AcceptedCmp4            0\n",
              "AcceptedCmp5            0\n",
              "AcceptedCmp1            0\n",
              "AcceptedCmp2            0\n",
              "Response                0\n",
              "Complain                0\n",
              "Country                 0\n",
              "dtype: int64"
            ]
          },
          "metadata": {},
          "execution_count": 144
        }
      ]
    },
    {
      "cell_type": "code",
      "source": [
        "df = df.dropna(subset=['Income'])"
      ],
      "metadata": {
        "id": "CIzPKbR15SC7"
      },
      "execution_count": null,
      "outputs": []
    },
    {
      "cell_type": "code",
      "source": [
        "df.isna().sum()"
      ],
      "metadata": {
        "colab": {
          "base_uri": "https://localhost:8080/"
        },
        "id": "ILvyF8oO9h6I",
        "outputId": "d7229dd4-7eeb-404b-ccf7-34f8dd7832ec"
      },
      "execution_count": null,
      "outputs": [
        {
          "output_type": "execute_result",
          "data": {
            "text/plain": [
              "ID                     0\n",
              "Year_Birth             0\n",
              "Education              0\n",
              "Marital_Status         0\n",
              "Income                 0\n",
              "Kidhome                0\n",
              "Teenhome               0\n",
              "Dt_Customer            0\n",
              "Recency                0\n",
              "MntWines               0\n",
              "MntFruits              0\n",
              "MntMeatProducts        0\n",
              "MntFishProducts        0\n",
              "MntSweetProducts       0\n",
              "MntGoldProds           0\n",
              "NumDealsPurchases      0\n",
              "NumWebPurchases        0\n",
              "NumCatalogPurchases    0\n",
              "NumStorePurchases      0\n",
              "NumWebVisitsMonth      0\n",
              "AcceptedCmp3           0\n",
              "AcceptedCmp4           0\n",
              "AcceptedCmp5           0\n",
              "AcceptedCmp1           0\n",
              "AcceptedCmp2           0\n",
              "Response               0\n",
              "Complain               0\n",
              "Country                0\n",
              "dtype: int64"
            ]
          },
          "metadata": {},
          "execution_count": 146
        }
      ]
    },
    {
      "cell_type": "code",
      "source": [
        "df.duplicated().sum()"
      ],
      "metadata": {
        "colab": {
          "base_uri": "https://localhost:8080/"
        },
        "id": "64F66dwO-In4",
        "outputId": "054534b0-c534-408a-f8cf-d2c38254c965"
      },
      "execution_count": null,
      "outputs": [
        {
          "output_type": "execute_result",
          "data": {
            "text/plain": [
              "0"
            ]
          },
          "metadata": {},
          "execution_count": 147
        }
      ]
    },
    {
      "cell_type": "code",
      "source": [
        "df['Education'].value_counts()"
      ],
      "metadata": {
        "colab": {
          "base_uri": "https://localhost:8080/"
        },
        "id": "DoOvDkdg1iUl",
        "outputId": "1160f044-2b7e-4d47-c0e1-bfe759bec82e"
      },
      "execution_count": null,
      "outputs": [
        {
          "output_type": "execute_result",
          "data": {
            "text/plain": [
              "Graduation    1116\n",
              "PhD            481\n",
              "Master         365\n",
              "2n Cycle       200\n",
              "Basic           54\n",
              "Name: Education, dtype: int64"
            ]
          },
          "metadata": {},
          "execution_count": 148
        }
      ]
    },
    {
      "cell_type": "code",
      "source": [
        "le = LabelEncoder()\n",
        "df['Education'] = le.fit_transform(df['Education'])\n",
        "\n",
        "df['Education'].value_counts()"
      ],
      "metadata": {
        "colab": {
          "base_uri": "https://localhost:8080/"
        },
        "id": "azibGo6b2CY2",
        "outputId": "f0929d4b-6e17-40ba-9589-7daa86535b5a"
      },
      "execution_count": null,
      "outputs": [
        {
          "output_type": "execute_result",
          "data": {
            "text/plain": [
              "2    1116\n",
              "4     481\n",
              "3     365\n",
              "0     200\n",
              "1      54\n",
              "Name: Education, dtype: int64"
            ]
          },
          "metadata": {},
          "execution_count": 149
        }
      ]
    },
    {
      "cell_type": "code",
      "source": [
        "le = LabelEncoder()\n",
        "df['Marital_Status'] = le.fit_transform(df['Marital_Status'])\n",
        "\n",
        "df['Marital_Status'].value_counts()"
      ],
      "metadata": {
        "colab": {
          "base_uri": "https://localhost:8080/"
        },
        "id": "MRGM9Gsk2L8h",
        "outputId": "33b25afd-d7d2-47d4-f0de-bec33bbc8f80"
      },
      "execution_count": null,
      "outputs": [
        {
          "output_type": "execute_result",
          "data": {
            "text/plain": [
              "3    857\n",
              "5    573\n",
              "4    471\n",
              "2    232\n",
              "6     76\n",
              "1      3\n",
              "7      2\n",
              "0      2\n",
              "Name: Marital_Status, dtype: int64"
            ]
          },
          "metadata": {},
          "execution_count": 150
        }
      ]
    },
    {
      "cell_type": "code",
      "source": [
        "le = LabelEncoder()\n",
        "df['Dt_Customer'] = le.fit_transform(df['Dt_Customer'])\n",
        "\n",
        "df['Dt_Customer'].value_counts()"
      ],
      "metadata": {
        "colab": {
          "base_uri": "https://localhost:8080/"
        },
        "id": "LjkoJ5A62L5S",
        "outputId": "359bbfbb-80bc-4f37-e4ee-42fd899d43da"
      },
      "execution_count": null,
      "outputs": [
        {
          "output_type": "execute_result",
          "data": {
            "text/plain": [
              "32     12\n",
              "189    11\n",
              "618    11\n",
              "44     11\n",
              "368    10\n",
              "       ..\n",
              "501     1\n",
              "37      1\n",
              "444     1\n",
              "337     1\n",
              "33      1\n",
              "Name: Dt_Customer, Length: 662, dtype: int64"
            ]
          },
          "metadata": {},
          "execution_count": 151
        }
      ]
    },
    {
      "cell_type": "code",
      "source": [
        "le = LabelEncoder()\n",
        "df['Country'] = le.fit_transform(df['Country'])\n",
        "\n",
        "df['Country'].value_counts()"
      ],
      "metadata": {
        "colab": {
          "base_uri": "https://localhost:8080/"
        },
        "id": "viM9Sf5P2i8e",
        "outputId": "288e8cee-7498-49f1-8283-c78da13a1fd6"
      },
      "execution_count": null,
      "outputs": [
        {
          "output_type": "execute_result",
          "data": {
            "text/plain": [
              "6    1093\n",
              "5     337\n",
              "1     266\n",
              "0     147\n",
              "3     147\n",
              "2     116\n",
              "7     107\n",
              "4       3\n",
              "Name: Country, dtype: int64"
            ]
          },
          "metadata": {},
          "execution_count": 152
        }
      ]
    },
    {
      "cell_type": "markdown",
      "source": [
        "# Outlier Analysis"
      ],
      "metadata": {
        "id": "rjz4u3Lp_EB2"
      }
    },
    {
      "cell_type": "markdown",
      "source": [
        "**IQR Method**"
      ],
      "metadata": {
        "id": "93qhuSHvmQRB"
      }
    },
    {
      "cell_type": "code",
      "source": [
        "def iqr_get_outliers(data):\n",
        "\n",
        "    Q1 = np.percentile(data, 25)\n",
        "    Q3 = np.percentile(data, 75)\n",
        "\n",
        "    IQR = Q3 - Q1\n",
        "\n",
        "    lower_limit = Q1 - 1.5 * IQR\n",
        "    upper_limit = Q3 + 1.5 * IQR\n",
        "\n",
        "    outliers = df[((data < lower_limit) | (data > upper_limit))]\n",
        "    return outliers\n"
      ],
      "metadata": {
        "id": "FoNNrs2QmP9b"
      },
      "execution_count": null,
      "outputs": []
    },
    {
      "cell_type": "code",
      "source": [
        "outliers = iqr_get_outliers(df['Income'])\n",
        "outliers['Income']"
      ],
      "metadata": {
        "colab": {
          "base_uri": "https://localhost:8080/"
        },
        "id": "BAAYLFLcmfTJ",
        "outputId": "dafac972-9868-4e38-b183-c291b023d9d0"
      },
      "execution_count": null,
      "outputs": [
        {
          "output_type": "execute_result",
          "data": {
            "text/plain": [
              "325     157146.0\n",
              "497     160803.0\n",
              "527     666666.0\n",
              "731     162397.0\n",
              "853     157733.0\n",
              "1826    153924.0\n",
              "1925    156924.0\n",
              "2204    157243.0\n",
              "Name: Income, dtype: float64"
            ]
          },
          "metadata": {},
          "execution_count": 154
        }
      ]
    },
    {
      "cell_type": "markdown",
      "source": [
        "**Z-Score Method**"
      ],
      "metadata": {
        "id": "yZw_Xf1enkNF"
      }
    },
    {
      "cell_type": "code",
      "source": [
        "#print(df[\"Income\"].sort_values(ascending = False).head(10))\n",
        "#Getting the z-scores of Income column\n",
        "z_score = stats.zscore(df['Income'])\n",
        "\n",
        "print(\"Z-score: \\n\",z_score)\n"
      ],
      "metadata": {
        "colab": {
          "base_uri": "https://localhost:8080/"
        },
        "id": "CQ-c3OEV-Srx",
        "outputId": "e69eacfe-fc1d-4362-9ce3-a2567cfda5de"
      },
      "execution_count": null,
      "outputs": [
        {
          "output_type": "stream",
          "name": "stdout",
          "text": [
            "Z-score: \n",
            " 0       1.294840\n",
            "1       0.192461\n",
            "2       0.596794\n",
            "3      -0.785669\n",
            "4      -1.222743\n",
            "          ...   \n",
            "2235    0.565364\n",
            "2236   -0.842012\n",
            "2237   -0.235910\n",
            "2238    0.539259\n",
            "2239    1.693610\n",
            "Name: Income, Length: 2216, dtype: float64\n"
          ]
        }
      ]
    },
    {
      "cell_type": "code",
      "source": [
        "#Identify outlier with a z-score of greater than 3 or less than -3\n",
        "outliers = df[(z_score>3) | (z_score <-3)]\n",
        "\n",
        "print(\"Outliers: \\n\",outliers['Income'])\n",
        "\n"
      ],
      "metadata": {
        "colab": {
          "base_uri": "https://localhost:8080/"
        },
        "id": "qg31431W_VVt",
        "outputId": "a81a2755-2e10-4ed4-9107-67b682c0a41c"
      },
      "execution_count": null,
      "outputs": [
        {
          "output_type": "stream",
          "name": "stdout",
          "text": [
            "Outliers: \n",
            " 325     157146.0\n",
            "497     160803.0\n",
            "527     666666.0\n",
            "731     162397.0\n",
            "853     157733.0\n",
            "1826    153924.0\n",
            "1925    156924.0\n",
            "2204    157243.0\n",
            "Name: Income, dtype: float64\n"
          ]
        }
      ]
    },
    {
      "cell_type": "markdown",
      "source": [
        "# PLOT SECTION"
      ],
      "metadata": {
        "id": "0yxP9meEqXt4"
      }
    },
    {
      "cell_type": "code",
      "source": [
        "#Ploting\n",
        "fig, ax = plt.subplots(figsize=(5,5))\n",
        "sns.boxplot(x=df['Income'],ax=ax)\n",
        "ax.set_title('Distribution of Income', fontsize=15)\n",
        "\n",
        "plt.show()\n",
        "\n"
      ],
      "metadata": {
        "colab": {
          "base_uri": "https://localhost:8080/",
          "height": 489
        },
        "id": "Kp4cslpf_YoF",
        "outputId": "7b800754-98c1-40aa-9cfc-5cb7026e6941"
      },
      "execution_count": null,
      "outputs": [
        {
          "output_type": "display_data",
          "data": {
            "text/plain": [
              "<Figure size 500x500 with 1 Axes>"
            ],
            "image/png": "[encoded data removed]"
          },
          "metadata": {}
        }
      ]
    },
    {
      "cell_type": "code",
      "source": [
        "print(df['Income'].describe())\n",
        "#The median income of the dataset was found to be 51075, which is close to the mean income value. This indicates that the income distribution is nearly symmetrical, but the presence of outliers is causing the mean value to be higher than the median value.\n",
        "#print(df['Income'].describe(percentiles=[.10, .20, .30, .40, .50, .60, .70, .80, .90]))\n",
        "\n",
        "# Filtering the DataFrame to only include outlier with a income over 150000\n",
        "outlier_income = df[df['Income'] > 150000]\n",
        "# Calculating the percentage of outlier_income\n",
        "percentage_outlier_income = (len(outlier_income) / len(df)) * 100\n",
        "print(percentage_outlier_income)"
      ],
      "metadata": {
        "colab": {
          "base_uri": "https://localhost:8080/"
        },
        "id": "24Kn4p1N_wAR",
        "outputId": "fa47b400-52d6-4c1f-8d36-f29075d54b33"
      },
      "execution_count": null,
      "outputs": [
        {
          "output_type": "stream",
          "name": "stdout",
          "text": [
            "count      2216.000000\n",
            "mean      52247.251354\n",
            "std       25173.076661\n",
            "min        1730.000000\n",
            "25%       35303.000000\n",
            "50%       51381.500000\n",
            "75%       68522.000000\n",
            "max      666666.000000\n",
            "Name: Income, dtype: float64\n",
            "0.36101083032490977\n"
          ]
        }
      ]
    },
    {
      "cell_type": "markdown",
      "source": [
        "# TREATING OUTLIERS"
      ],
      "metadata": {
        "id": "JtIb6ckUs_Xa"
      }
    },
    {
      "cell_type": "code",
      "source": [
        "# Winsorizing the data involves replacing the income outliers with the nearest non-outlier values. This ensures that the extreme values are still accounted for in the analysis, but their impact is minimized.\n",
        "#Winsorizing Income Data to minimize the Income outliers\n",
        "#The winsorize function with limits [0.01, 0.01] was applied to the income column of a dataset, clipping the extreme 1% of values at both ends of the distribution.\n",
        "#It can reduce the impact of extreme values on statistical analysis by bringing the extreme values inwards towards the center of the distribution.\n",
        "#However, this can also affect other statistics such as the mean and standard deviation.\n",
        "#The choice of the \"limits\" parameter will depend on the specific dataset and goals of the analysis, with a larger value leading to a larger impact on the data and a smaller value leading to a smaller impact.\n",
        "#The median is not affected by winsorizing, as it is only affected by the values in the middle of the distribution.\n",
        "# Winsorize income data\n",
        "df['Income'] = mstats.winsorize(df['Income'], limits=[0.01, 0.01])\n",
        "\n",
        "df[\"Income\"].sort_values(ascending = False).head(10)\n",
        "\n",
        "fig, ax = plt.subplots(figsize=(5, 5))\n",
        "sns.boxplot(x=df['Income'], ax=ax)\n",
        "ax.set_title('Distribution of Income', fontsize=15)\n",
        "\n",
        "# Show plot\n",
        "plt.show()\n",
        "\n",
        "df[\"Income\"].describe()"
      ],
      "metadata": {
        "colab": {
          "base_uri": "https://localhost:8080/",
          "height": 700
        },
        "id": "SPnKYjQV_04w",
        "outputId": "cfac0ca6-3a03-4ed4-f941-5966e6f2d2fb"
      },
      "execution_count": null,
      "outputs": [
        {
          "output_type": "display_data",
          "data": {
            "text/plain": [
              "<Figure size 500x500 with 1 Axes>"
            ],
            "image/png": "[encoded data removed]"
          },
          "metadata": {}
        },
        {
          "output_type": "stream",
          "name": "stderr",
          "text": [
            "/usr/local/lib/python3.10/dist-packages/numpy/lib/function_base.py:4823: UserWarning: Warning: 'partition' will ignore the 'mask' of the MaskedArray.\n",
            "  arr.partition(\n"
          ]
        },
        {
          "output_type": "execute_result",
          "data": {
            "text/plain": [
              "count     2216.000000\n",
              "mean     51769.592058\n",
              "std      20730.741791\n",
              "min       7500.000000\n",
              "25%      35303.000000\n",
              "50%      51381.500000\n",
              "75%      68522.000000\n",
              "max      94472.000000\n",
              "Name: Income, dtype: float64"
            ]
          },
          "metadata": {},
          "execution_count": 159
        }
      ]
    }
  ]
}